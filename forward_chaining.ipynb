{
 "cells": [
  {
   "cell_type": "code",
   "execution_count": 46,
   "metadata": {},
   "outputs": [],
   "source": [
    "def readFile(path):\n",
    "  f = open(path)\n",
    "  R, L, GT, KL= [],[],[],[]\n",
    "\n",
    "  F = ((f.readline().rstrip('\\n')).split('=')[-1]).split(',')\n",
    "  G = ((f.readline().rstrip('\\n')).split('=')[-1]).split(',')\n",
    "\n",
    "  while True:\n",
    "    string = f.readline()\n",
    "    if not string:\n",
    "      break\n",
    "    temp = string.split(':')\n",
    "\n",
    "    R.append(temp[0])\n",
    "    L.append(temp[1])\n",
    "  \n",
    "  for i in L:\n",
    "    KL.append((i.split('->')[-1]).rstrip('\\n'))\n",
    "    GT.append((i.split('->')[0]).split(','))\n",
    "  return R,GT,KL,G,F"
   ]
  },
  {
   "cell_type": "code",
   "execution_count": 16,
   "metadata": {},
   "outputs": [],
   "source": [
    "def check(T,G):\n",
    "    for i in T:\n",
    "        if i not in G:\n",
    "            return False\n",
    "    return True"
   ]
  },
  {
   "cell_type": "code",
   "execution_count": 47,
   "metadata": {},
   "outputs": [
    {
     "name": "stdout",
     "output_type": "stream",
     "text": [
      "['D01', 'D01', 'D01', 'D02', 'D02', 'D02', 'D02', 'D02', 'D02', 'D03', 'D03', 'D03', 'D03', 'D04', 'D04', 'D04', 'D04', 'D05', 'D05', 'D05', 'D05', 'D06', 'D06', 'D06']\n"
     ]
    }
   ],
   "source": [
    "r, gt, kl, g, f = readFile('hehe.inp')\n",
    "print(kl)"
   ]
  },
  {
   "cell_type": "code",
   "execution_count": null,
   "metadata": {},
   "outputs": [],
   "source": []
  }
 ],
 "metadata": {
  "kernelspec": {
   "display_name": "Python 3",
   "language": "python",
   "name": "python3"
  },
  "language_info": {
   "codemirror_mode": {
    "name": "ipython",
    "version": 3
   },
   "file_extension": ".py",
   "mimetype": "text/x-python",
   "name": "python",
   "nbconvert_exporter": "python",
   "pygments_lexer": "ipython3",
   "version": "3.9.13"
  }
 },
 "nbformat": 4,
 "nbformat_minor": 2
}
